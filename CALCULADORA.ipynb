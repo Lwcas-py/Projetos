{
 "cells": [
  {
   "cell_type": "code",
   "execution_count": 2,
   "id": "73979371-ad60-456d-a5ad-8f4359031fb7",
   "metadata": {},
   "outputs": [
    {
     "name": "stdout",
     "output_type": "stream",
     "text": [
      "Bem vindo á calculadora em python!\n",
      "Operadores.\n",
      "a : Adição\n",
      "s : Subtração\n",
      "m : Multiplicação\n",
      "d : Divisão\n",
      "p : Potenciação\n",
      "\n"
     ]
    },
    {
     "name": "stdin",
     "output_type": "stream",
     "text": [
      "Insira aqui o Operador: 1\n",
      "insira aqui um número: 1\n",
      "Insira aqui o outro número: 1\n"
     ]
    },
    {
     "name": "stdout",
     "output_type": "stream",
     "text": [
      "=============================\n",
      "O seu resultado é: None\n",
      "_____________________________\n"
     ]
    },
    {
     "name": "stdin",
     "output_type": "stream",
     "text": [
      "Você deseja continuar calculando? (sim=S/não=N) 1\n"
     ]
    },
    {
     "name": "stdout",
     "output_type": "stream",
     "text": [
      "_____________________________\n",
      "Encerrando o programa...\n"
     ]
    }
   ],
   "source": [
    "import os\n",
    "\n",
    "def calcular ():\n",
    "    print(\"Operadores.\\na : Adição\\ns : Subtração\\nm : Multiplicação\\nd : Divisão\\np : Potenciação\\n\")\n",
    "    op=input(\"Insira aqui o Operador:\").lower() #((Comando lower bota tudo em lowercase))\n",
    "    x=float(input(\"insira aqui um número:\"))\n",
    "    y=float(input(\"Insira aqui o outro número:\"))\n",
    "    if op==\"a\":\n",
    "        return x + y\n",
    "    elif op==\"s\":\n",
    "        return x - y\n",
    "    elif op==\"m\":\n",
    "        return x * y\n",
    "    elif op==\"d\":   \n",
    "        while y == 0:\n",
    "                print(\"Erro, Divisão por Zero não é possivel, insira novamente os números.\")\n",
    "                x=float(input(\"insira aqui um número:\"))\n",
    "                y=float(input(\"Insira aqui o outro número:\"))\n",
    "        return x / y\n",
    "    elif op==\"p\":\n",
    "        return x ** y\n",
    "os.system('cls' if os.name == 'nt' else 'clear')    \n",
    "print(\"Bem vindo á calculadora em python!\")\n",
    "result=calcular()\n",
    "print(\"=============================\")\n",
    "print(\"O seu resultado é: {}\".format(result))\n",
    "print(\"_____________________________\")\n",
    "while True:\n",
    "    ans=input(\"Você deseja continuar calculando? (sim=S/não=N)\").lower()\n",
    "    if ans==\"s\":\n",
    "        print(\"___________________________\")\n",
    "        print(\"Continuando o programa...\")\n",
    "        result=calcular()\n",
    "        print(\"=============================\")\n",
    "        print(\"O seu resultado é: {}\".format(result))\n",
    "        print(\"_____________________________\")\n",
    "    else:\n",
    "        print(\"_____________________________\")\n",
    "        print(\"Encerrando o programa...\")\n",
    "        break\n",
    "\n",
    "    "
   ]
  },
  {
   "cell_type": "code",
   "execution_count": 3,
   "id": "bc7ab678-d3f7-407f-a19b-88ef6054c053",
   "metadata": {},
   "outputs": [
    {
     "data": {
      "text/plain": [
       "'C:\\\\Users\\\\Lucas\\\\Desktop'"
      ]
     },
     "execution_count": 3,
     "metadata": {},
     "output_type": "execute_result"
    }
   ],
   "source": [
    "import os\n",
    "os.getcwd()"
   ]
  },
  {
   "cell_type": "code",
   "execution_count": null,
   "id": "7133ab58-1884-4820-88c6-dc91be56eed1",
   "metadata": {},
   "outputs": [],
   "source": []
  }
 ],
 "metadata": {
  "kernelspec": {
   "display_name": "Python 3 (ipykernel)",
   "language": "python",
   "name": "python3"
  },
  "language_info": {
   "codemirror_mode": {
    "name": "ipython",
    "version": 3
   },
   "file_extension": ".py",
   "mimetype": "text/x-python",
   "name": "python",
   "nbconvert_exporter": "python",
   "pygments_lexer": "ipython3",
   "version": "3.13.1"
  }
 },
 "nbformat": 4,
 "nbformat_minor": 5
}
